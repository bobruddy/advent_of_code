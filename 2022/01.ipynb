{
 "cells": [
  {
   "cell_type": "code",
   "execution_count": 60,
   "id": "6555b1e7-c05a-4411-8e68-9c65feea8b00",
   "metadata": {},
   "outputs": [
    {
     "name": "stdout",
     "output_type": "stream",
     "text": [
      "Most calories: 72478\n",
      "Sum of 3 elfs with most calories is: 210367\n"
     ]
    }
   ],
   "source": [
    "with open( '01.input', \"r\") as file:\n",
    "    cals = []\n",
    "    user_cals = 0\n",
    "    for i in file.readlines():\n",
    "        cal = i.strip()\n",
    "        if cal:\n",
    "            user_cals = user_cals + int( cal )\n",
    "        else:\n",
    "            cals.append( user_cals )\n",
    "            user_cals = 0\n",
    "cals.sort( reverse=True )\n",
    "print( \"Most calories: {}\".format( cals[:1][0] ) )\n",
    "print( \"Sum of 3 elfs with most calories is: {}\".format( sum( cals[:3] ) ) )"
   ]
  }
 ],
 "metadata": {
  "kernelspec": {
   "display_name": "Python 3 (ipykernel)",
   "language": "python",
   "name": "python3"
  },
  "language_info": {
   "codemirror_mode": {
    "name": "ipython",
    "version": 3
   },
   "file_extension": ".py",
   "mimetype": "text/x-python",
   "name": "python",
   "nbconvert_exporter": "python",
   "pygments_lexer": "ipython3",
   "version": "3.11.6"
  }
 },
 "nbformat": 4,
 "nbformat_minor": 5
}
